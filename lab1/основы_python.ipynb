{
  "cells": [
    {
      "cell_type": "markdown",
      "metadata": {
        "id": "M-DGa20PaHnu"
      },
      "source": [
        "# Задача 1\n",
        "Написать функцию на вход которой подается строка, состоящая из латинских букв.\n",
        "Функция должна вернуть количество гласных букв (a, e, i, o, u) в этой строке. Написать тесты для кода"
      ]
    },
    {
      "cell_type": "code",
      "execution_count": 1,
      "metadata": {
        "id": "XvX8X_JJ6PCb"
      },
      "outputs": [
        {
          "name": "stdout",
          "output_type": "stream",
          "text": [
            "3\n",
            "12\n"
          ]
        }
      ],
      "source": [
        "def count_vowels(string: str) -> int:\n",
        "    return sum(list(map(lambda x: 1 if x in 'aeiouy' else 0, string)))\n",
        "\n",
        "\n",
        "print(count_vowels(string=\"Hello, world!\"))\n",
        "print(count_vowels(string=\"Python is the best programming language\"))"
      ]
    },
    {
      "cell_type": "markdown",
      "metadata": {
        "id": "t2ClV_Y0bbr6"
      },
      "source": [
        "# Задача 2\n",
        "Написать функцию на вход, которой подается строка. Функция должна вернуть true, если\n",
        "каждый символ в строке встречается только 1 раз, иначе должна вернуть false. Написать тесты для кода"
      ]
    },
    {
      "cell_type": "code",
      "execution_count": 2,
      "metadata": {
        "id": "FppbECao6VIz"
      },
      "outputs": [
        {
          "name": "stdout",
          "output_type": "stream",
          "text": [
            "True\n",
            "False\n",
            "True\n"
          ]
        }
      ],
      "source": [
        "def is_set(string: str) -> bool:\n",
        "    return True if len(set(string)) == len(string) else False\n",
        "\n",
        "\n",
        "print(is_set(string=\"abcdefghijklmnop\"))\n",
        "print(is_set(string=\"Hello, world!\"))\n",
        "print(is_set(string=\"велотуризм\"))"
      ]
    },
    {
      "cell_type": "markdown",
      "metadata": {
        "id": "udRiIK1cdt6E"
      },
      "source": [
        "# Задача 3\n",
        "Написать функцию, которая принимает положительное число и возвращает количество\n",
        "бит равных 1 в этом числе. Написать тесты для кода"
      ]
    },
    {
      "cell_type": "code",
      "execution_count": 3,
      "metadata": {
        "id": "6tkfDJRz6dp_"
      },
      "outputs": [
        {
          "name": "stdout",
          "output_type": "stream",
          "text": [
            "1\n",
            "2\n",
            "8\n"
          ]
        }
      ],
      "source": [
        "def count_one_bits(number: int) -> int:\n",
        "    return str(bin(number))[2:].count(\"1\")\n",
        "\n",
        "\n",
        "print(count_one_bits(number=2))\n",
        "print(count_one_bits(number=10))\n",
        "print(count_one_bits(number=230931))"
      ]
    },
    {
      "cell_type": "markdown",
      "metadata": {
        "id": "26dDUz-Ae17N"
      },
      "source": [
        "# Задача 4\n",
        "Написать функцию, которая принимает положительное число. Функция должна вернуть то,\n",
        "сколько раз необходимо перемножать цифры числа или результат перемножения, чтобы\n",
        "получилось число состоящее из одной цифры.\n",
        "Например, для входного числа:\n",
        "· 39 функция должна вернуть 3, так как 3*9=27 => 2*7=14 => 1*4=4\n",
        "· 4 функция должна вернуть 0, так как число уже состоит из одной цифры\n",
        "· 999 функция должна вернуть 4, так как 9*9*9=729 => 7*2*9=126 => 1*2*6=12 =>\n",
        "1*2=2. Написать тесты для кода"
      ]
    },
    {
      "cell_type": "code",
      "execution_count": 4,
      "metadata": {
        "id": "BH1A_Mgi6i4G"
      },
      "outputs": [
        {
          "name": "stdout",
          "output_type": "stream",
          "text": [
            "3\n",
            "0\n",
            "4\n"
          ]
        }
      ],
      "source": [
        "from functools import reduce\n",
        "\n",
        "\n",
        "def magic(n: int) -> int:\n",
        "    count = 0\n",
        "    while n >= 10:\n",
        "        n = reduce(lambda x, y: int(x) * int(y), str(n))\n",
        "        count += 1\n",
        "\n",
        "    return count\n",
        "\n",
        "\n",
        "print(magic(n=39))\n",
        "print(magic(n=4))\n",
        "print(magic(n=999))"
      ]
    },
    {
      "cell_type": "markdown",
      "metadata": {
        "id": "0nS-kIa8g8vd"
      },
      "source": [
        "# Задача 5\n",
        "Написать функцию, которая принимает два целочисленных вектора одинаковой длины и\n",
        "возвращает среднеквадратическое отклонение двух векторов. Написать тесты для кода"
      ]
    },
    {
      "cell_type": "code",
      "execution_count": 5,
      "metadata": {
        "id": "8iphx4LM6xbx"
      },
      "outputs": [
        {
          "name": "stdout",
          "output_type": "stream",
          "text": [
            "4.672615256292062\n",
            "61.886993787063204\n"
          ]
        }
      ],
      "source": [
        "def mse(pred, true):\n",
        "    return (sum((x - y)**2 for x, y in zip(pred, true))/len(pred))**0.5\n",
        "\n",
        "\n",
        "vec1 = [1, 2, 3, 4, 5, 6]\n",
        "vec2 = [1, -2, 3, -1, 2, -3]\n",
        "print(mse(pred=vec1, true=vec2))\n",
        "\n",
        "vec1 = [12, 56, 54, 1, 0, 10, 19, 17]\n",
        "vec2 = [5, 4, 11, 125, 16, 23, 88, 91]\n",
        "print(mse(pred=vec1, true=vec2))"
      ]
    },
    {
      "cell_type": "markdown",
      "metadata": {
        "id": "vpIPKL439zkw"
      },
      "source": [
        "# Задача 6\n",
        "Написать функцию, принимающая целое положительное число. Функция должна вернуть\n",
        "строку вида “(n1**p1)(n2**p2)…(nk**pk)” представляющая разложение числа на простые\n",
        "множители (если pi == 1, то выводить только ni).\n",
        "Например, для числа 86240 функция должна вернуть “(2**5)(5)(7**2)(11)”. Написать тесты для кода"
      ]
    },
    {
      "cell_type": "code",
      "execution_count": 10,
      "metadata": {
        "id": "pFebmcZk94Jw"
      },
      "outputs": [
        {
          "name": "stdout",
          "output_type": "stream",
          "text": [
            "(25)(5)(72)(11)\n",
            "(32)(7)(132)(53)\n"
          ]
        }
      ],
      "source": [
        "def simple_divisioners(number: int) -> str:\n",
        "    result = []\n",
        "    m = 2\n",
        "    while number > 1:\n",
        "        if number % m == 0:\n",
        "            number //= m\n",
        "            result.append(m)\n",
        "        else:\n",
        "            m += 1\n",
        "\n",
        "    result_str = \"\"\n",
        "    for i in sorted(set(result)):\n",
        "        num_pow = result.count(i)\n",
        "        if num_pow > 1:\n",
        "            result_str += f\"({i}{result.count(i)})\"\n",
        "        else:\n",
        "            result_str += f\"({i})\"\n",
        "    \n",
        "    return result_str\n",
        "\n",
        "\n",
        "print(simple_divisioners(number=86240))\n",
        "print(simple_divisioners(number=564291))"
      ]
    },
    {
      "cell_type": "markdown",
      "metadata": {
        "id": "ps2s0BudX7A2"
      },
      "source": [
        "# Задача 7\n",
        "Написать функцию, принимающая целое число n, задающее количество кубиков. Функция\n",
        "должна определить, можно ли из данного кол-ва кубиков построить пирамиду, то есть\n",
        "можно ли представить число n как 1^2+2^2+3^2+…+k^2. Если можно, то функция должна\n",
        "вернуть k, иначе строку “It is impossible”. Написать тесты для кода"
      ]
    },
    {
      "cell_type": "code",
      "execution_count": 14,
      "metadata": {
        "id": "3YPjEXxhX_YT"
      },
      "outputs": [
        {
          "name": "stdout",
          "output_type": "stream",
          "text": [
            "8\n",
            "It is impossible\n"
          ]
        }
      ],
      "source": [
        "def pyramid(number: int) -> str:\n",
        "    count = 1\n",
        "    while number > 0:\n",
        "        number -= count**2\n",
        "        count += 1\n",
        "\n",
        "    return \"It is impossible\" if number < 0 else count - 1\n",
        "\n",
        "\n",
        "print(pyramid(number=204))\n",
        "print(pyramid(number=109))"
      ]
    },
    {
      "cell_type": "markdown",
      "metadata": {
        "id": "KeKgmIdAQMEJ"
      },
      "source": [
        "# Задача 8\n",
        "Функция принимает на вход положительное число и определяет является ли оно сбалансированным, т.е. сумма цифр до средних равна сумме цифр после. Средними в случае нечетного числа цифр считать одну цифру, в случае четного - две средних. Написать тесты для кода"
      ]
    },
    {
      "cell_type": "code",
      "execution_count": 18,
      "metadata": {
        "id": "gMAAqtqlQrZt"
      },
      "outputs": [
        {
          "name": "stdout",
          "output_type": "stream",
          "text": [
            "True\n",
            "True\n",
            "True\n",
            "False\n"
          ]
        }
      ],
      "source": [
        "def is_balanced(number: int) -> bool:\n",
        "    number = [int(i) for i in str(number)]\n",
        "    if len(number) % 2 == 0:\n",
        "        return sum(number[:len(number) // 2 - 1]) == sum(number[len(number) // 2 + 1:])\n",
        "    return sum(number[:len(number) // 2]) == sum(number[len(number) // 2 + 1:])\n",
        "\n",
        "\n",
        "print(is_balanced(number=123454321))\n",
        "print(is_balanced(number=66666666))\n",
        "print(is_balanced(number=12344455444321))\n",
        "print(is_balanced(number=230931))"
      ]
    }
  ],
  "metadata": {
    "colab": {
      "provenance": []
    },
    "kernelspec": {
      "display_name": "Python 3",
      "name": "python3"
    },
    "language_info": {
      "codemirror_mode": {
        "name": "ipython",
        "version": 3
      },
      "file_extension": ".py",
      "mimetype": "text/x-python",
      "name": "python",
      "nbconvert_exporter": "python",
      "pygments_lexer": "ipython3",
      "version": "3.12.1"
    }
  },
  "nbformat": 4,
  "nbformat_minor": 0
}
